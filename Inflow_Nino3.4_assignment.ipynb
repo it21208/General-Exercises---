{
 "cells": [
  {
   "cell_type": "markdown",
   "metadata": {},
   "source": [
    "# Inflow_Nino3.4_assignment"
   ]
  },
  {
   "cell_type": "markdown",
   "metadata": {},
   "source": [
    "### Import modules containing library functions and Read data from the file and put the numbers into an array"
   ]
  },
  {
   "cell_type": "code",
   "execution_count": 171,
   "metadata": {},
   "outputs": [
    {
     "name": "stdout",
     "output_type": "stream",
     "text": [
      "hist_seasonal_time_series = \n",
      "[[1.969000e+03 1.000000e+00 1.503400e+02 1.024814e+00]\n",
      " [1.969000e+03 2.000000e+00 1.265500e+02 1.014148e+00]\n",
      " [1.969000e+03 3.000000e+00 8.081000e+01 9.060549e-01]\n",
      " ...\n",
      " [2.006000e+03 1.000000e+01 5.256300e+02 8.805061e-01]\n",
      " [2.006000e+03 1.100000e+01 7.859500e+02 1.141943e+00]\n",
      " [2.006000e+03 1.200000e+01 8.597400e+02 1.085966e+00]]\n",
      "\n",
      " hist_seasonal_time_series shape =  (456, 4)\n"
     ]
    }
   ],
   "source": [
    "import numpy as np\n",
    "import matplotlib.pyplot as plt\n",
    "\n",
    "hist_seasonal_time_series = np.genfromtxt('assignment1_data.txt')\n",
    "print('hist_seasonal_time_series = \\n{}\\n\\n hist_seasonal_time_series shape = ' \\\n",
    "      ' {}'.format(hist_seasonal_time_series, hist_seasonal_time_series.shape))"
   ]
  },
  {
   "cell_type": "markdown",
   "metadata": {},
   "source": [
    "### Function that extracts and returns reservoir inflow data and the Nino3.4 anomaly in March for all the years in the dataset"
   ]
  },
  {
   "cell_type": "code",
   "execution_count": 172,
   "metadata": {},
   "outputs": [
    {
     "name": "stdout",
     "output_type": "stream",
     "text": [
      "extracted_reservoir_inflow_data = \n",
      "[[ 1.969000e+03  3.000000e+00  8.081000e+01  9.060549e-01]\n",
      " [ 1.970000e+03  3.000000e+00  1.277100e+02  2.045352e-01]\n",
      " [ 1.971000e+03  3.000000e+00  1.916000e+02 -1.191065e+00]\n",
      " [ 1.972000e+03  3.000000e+00  1.987000e+02 -8.331813e-03]\n",
      " [ 1.973000e+03  3.000000e+00  1.411300e+02  5.104423e-01]\n",
      " [ 1.974000e+03  3.000000e+00  1.708800e+02 -1.249638e+00]\n",
      " [ 1.975000e+03  3.000000e+00  2.741000e+02 -7.281188e-01]\n",
      " [ 1.976000e+03  3.000000e+00  1.260600e+02 -8.687185e-01]\n",
      " [ 1.977000e+03  3.000000e+00  1.975700e+02  2.334286e-01]\n",
      " [ 1.978000e+03  3.000000e+00  7.610000e+01 -1.453153e-02]\n",
      " [ 1.979000e+03  3.000000e+00  1.225900e+02  1.124421e-01]\n",
      " [ 1.980000e+03  3.000000e+00  2.001500e+02  2.227347e-01]\n",
      " [ 1.981000e+03  3.000000e+00  9.895000e+01 -4.111581e-01]\n",
      " [ 1.982000e+03  3.000000e+00  1.525300e+02  1.739747e-01]\n",
      " [ 1.983000e+03  3.000000e+00  7.222000e+01  1.573295e+00]\n",
      " [ 1.984000e+03  3.000000e+00  1.270200e+02 -2.331850e-01]\n",
      " [ 1.985000e+03  3.000000e+00  9.142000e+01 -7.670510e-01]\n",
      " [ 1.986000e+03  3.000000e+00  1.225200e+02 -2.653183e-01]\n",
      " [ 1.987000e+03  3.000000e+00  8.417000e+01  1.089255e+00]\n",
      " [ 1.988000e+03  3.000000e+00  2.217400e+02  1.180280e-01]\n",
      " [ 1.989000e+03  3.000000e+00  2.803460e+02 -1.121292e+00]\n",
      " [ 1.990000e+03  3.000000e+00  9.105900e+01  2.830684e-01]\n",
      " [ 1.991000e+03  3.000000e+00  1.637100e+02  3.516949e-01]\n",
      " [ 1.992000e+03  3.000000e+00  4.736000e+01  1.594975e+00]\n",
      " [ 1.993000e+03  3.000000e+00  9.483000e+01  5.937082e-01]\n",
      " [ 1.994000e+03  3.000000e+00  1.514900e+02  3.750414e-01]\n",
      " [ 1.995000e+03  3.000000e+00  1.082400e+02  6.796811e-01]\n",
      " [ 1.996000e+03  3.000000e+00  1.764600e+02 -5.159981e-01]\n",
      " [ 1.997000e+03  3.000000e+00  1.202500e+02 -2.798622e-03]\n",
      " [ 1.998000e+03  3.000000e+00  8.016000e+01  1.441509e+00]\n",
      " [ 1.999000e+03  3.000000e+00  2.768200e+02 -8.739451e-01]\n",
      " [ 2.000000e+03  3.000000e+00  3.606500e+02 -1.102118e+00]\n",
      " [ 2.001000e+03  3.000000e+00  3.866700e+02 -3.846785e-01]\n",
      " [ 2.002000e+03  3.000000e+00  1.782300e+02  2.657889e-01]\n",
      " [ 2.003000e+03  3.000000e+00  1.159900e+02  5.708410e-01]\n",
      " [ 2.004000e+03  3.000000e+00  1.136200e+02  2.326151e-01]\n",
      " [ 2.005000e+03  3.000000e+00  1.243000e+02  3.432422e-01]\n",
      " [ 2.006000e+03  3.000000e+00  2.220800e+02 -3.698243e-01]]\n",
      "\n",
      " extracted_reservoir_inflow_data shape =(38, 4)\n"
     ]
    }
   ],
   "source": [
    "def extract_reservoir_inflow_data(hist_seasonal_time_series, month_number):\n",
    "    tempList = []\n",
    "    for i in hist_seasonal_time_series:\n",
    "        if month_number == int(i[1]):\n",
    "            tempList.append(i)   \n",
    "    return(np.array(tempList))\n",
    "\n",
    "mar_month_number = 3\n",
    "extracted_reservoir_inflow_data = extract_reservoir_inflow_data(hist_seasonal_time_series, mar_month_number)\n",
    "print('extracted_reservoir_inflow_data = \\n{}\\n\\n extracted_reservoir_inflow_data shape =' \\\n",
    "      '{}'.format(extracted_reservoir_inflow_data, extracted_reservoir_inflow_data.shape))"
   ]
  },
  {
   "cell_type": "markdown",
   "metadata": {},
   "source": [
    "### Print scatter plot"
   ]
  },
  {
   "cell_type": "code",
   "execution_count": 173,
   "metadata": {},
   "outputs": [
    {
     "data": {
      "image/png": "[encoded data removed]",
      "text/plain": [
       "<Figure size 432x288 with 1 Axes>"
      ]
     },
     "metadata": {
      "needs_background": "light"
     },
     "output_type": "display_data"
    }
   ],
   "source": [
    "inflow_data = list(extracted_reservoir_inflow_data[:, 2])\n",
    "nino_anomaly =  list(extracted_reservoir_inflow_data[:, 3])\n",
    "years = list(extracted_reservoir_inflow_data[:, 0])\n",
    "\n",
    "plt.figure(1)\n",
    "plt.scatter(years, inflow_data, label='inflow')\n",
    "plt.scatter(years, nino_anomaly, label='Nino3.4')\n",
    "plt.ylabel(\"Inflow & Nino3.4 anomaly\")\n",
    "plt.xlabel(\"Year\")\n",
    "plt.legend()\n",
    "plt.title(\"Inflow data & Nino3.4 anomaly for March across all years\")\n",
    "plt.show()"
   ]
  },
  {
   "cell_type": "markdown",
   "metadata": {},
   "source": [
    "##### We can see in the scatter plot above that there are two outliers. But let's verify this with the code below."
   ]
  },
  {
   "cell_type": "markdown",
   "metadata": {},
   "source": [
    "###  Outlier detenction"
   ]
  },
  {
   "cell_type": "code",
   "execution_count": 174,
   "metadata": {},
   "outputs": [
    {
     "name": "stdout",
     "output_type": "stream",
     "text": [
      "2 Outliers exist\n"
     ]
    }
   ],
   "source": [
    "from sklearn.cluster import DBSCAN\n",
    "\n",
    "outlier_detection = DBSCAN(min_samples = 2, eps = 3)\n",
    "data = np.array([inflow_data, nino_anomaly])\n",
    "clusters = outlier_detection.fit_predict(data)\n",
    "\n",
    "if list(clusters).count(-1) > 0:\n",
    "    print('{} Outliers exist'.format(list(clusters).count(-1)))\n",
    "else:\n",
    "    print('No Outliers')"
   ]
  },
  {
   "cell_type": "markdown",
   "metadata": {},
   "source": [
    "### Calculate suitable statistics "
   ]
  },
  {
   "cell_type": "code",
   "execution_count": 175,
   "metadata": {},
   "outputs": [
    {
     "name": "stdout",
     "output_type": "stream",
     "text": [
      "------- *** Measures of spread and other interesting statistics about the two samples *** -------\n",
      "\n",
      "- Population standard deviation of data for Inflow data is 77.09242452328769 and for Nino3.4 is 0.7281412937957433\n",
      "\n",
      "- Population variance of data for Inflow data is 5943.241918878809 and for Nino3.4 is 0.5301897437305391\n",
      "\n",
      "- Sample standard deviation of data for Inflow data is 78.12726847169627 and for Nino3.4 is 0.7379154397787031\n",
      "\n",
      "- Sample variance of data for Inflow data is 6103.870078848507 and for Nino3.4 is 0.5445191962637969\n",
      "\n",
      "- Arithmetic mean of data for Inflow data is 157.11144736842104 and for Nino3.4 is  0.046541711447368427\n",
      "\n",
      "- Geometric mean of Inflow data is 140.91964160629965 and for Nino3.4 is nan\n",
      "\n",
      "- Harmonic mean of data for Inflow data is 126.93248031193174 and for Nino3.4 is  -0.075298120462773\n",
      "\n",
      "- Median of data for Inflow data is 127.365 and for Nino3.4 is  0.14600135\n",
      "\n",
      "- Median of data for Inflow data is 127.02 and for Nino3.4 is  0.118028\n",
      "\n",
      "- High of data for Inflow data is 127.71 and for Nino3.4 is  0.1739747\n",
      "\n",
      "- High of data for Inflow data is 127.21 and for Nino3.4 is  -0.32602529999999996\n",
      "\n"
     ]
    },
    {
     "name": "stderr",
     "output_type": "stream",
     "text": [
      "/home/pfb16181/anaconda3/lib/python3.7/site-packages/ipykernel_launcher.py:6: RuntimeWarning: invalid value encountered in double_scalars\n",
      "  \n"
     ]
    }
   ],
   "source": [
    "import statistics\n",
    "from scipy.stats.mstats import gmean\n",
    "from functools import reduce\n",
    "\n",
    "def gmean(numbers):\n",
    "    return(reduce(lambda x, y: x*y, numbers)**(1.0/len(numbers)))\n",
    "\n",
    "def har_mean(x):\n",
    "    hmean = len(x) / sum(1 / item for item in x)\n",
    "    return(hmean)\n",
    "\n",
    "# Print Measures of spread for inflow and Nino3.4 anomaly\n",
    "print('------- *** Measures of spread and other interesting statistics about the two samples *** -------\\n')\n",
    "\n",
    "# Population standard deviation of data.\n",
    "print('- Population standard deviation of data for Inflow data is {} and for Nino3.4 is ' \\\n",
    "      '{}\\n'.format(statistics.pstdev(inflow_data), statistics.pstdev(nino_anomaly)))\n",
    "# Population variance of data.\n",
    "print('- Population variance of data for Inflow data is {} and for Nino3.4 is ' \\\n",
    "      '{}\\n'.format(statistics.pvariance(inflow_data), statistics.pvariance(nino_anomaly)))\n",
    "# Sample standard deviation of data.\n",
    "print('- Sample standard deviation of data for Inflow data is {} and for Nino3.4 is ' \\\n",
    "      '{}\\n'.format(statistics.stdev(inflow_data), statistics.stdev(nino_anomaly)))\n",
    "# Sample variance of data.\n",
    "print('- Sample variance of data for Inflow data is {} and for Nino3.4 is ' \\\n",
    "      '{}\\n'.format(statistics.variance(inflow_data), statistics.variance(nino_anomaly)))\n",
    "# Arithmetic mean (“average”) of data.\n",
    "print('- Arithmetic mean of data for Inflow data is {} and for Nino3.4 is ' \\\n",
    "      ' {}\\n'.format(statistics.mean(inflow_data), statistics.mean(nino_anomaly)))\n",
    "\n",
    "# Geometric mean of data.\n",
    "print('- Geometric mean of Inflow data is {} and for Nino3.4 is ' \\\n",
    "      '{}\\n'.format(gmean(inflow_data), gmean(nino_anomaly)))\n",
    "\n",
    "# Harmonic mean of data.\n",
    "print('- Harmonic mean of data for Inflow data is {} and for Nino3.4 is ' \\\n",
    "      ' {}\\n'.format(har_mean(inflow_data), har_mean(nino_anomaly)))\n",
    "\n",
    "# Median (middle value) of data.\n",
    "print('- Median of data for Inflow data is {} and for Nino3.4 is ' \\\n",
    "      ' {}\\n'.format(statistics.median(inflow_data), statistics.median(nino_anomaly)))\n",
    "\n",
    "# Low median of data.\n",
    "print('- Median of data for Inflow data is {} and for Nino3.4 is ' \\\n",
    "      ' {}\\n'.format(statistics.median_low(inflow_data), statistics.median_low(nino_anomaly)))\n",
    "\n",
    "# High median of data.\n",
    "print('- High of data for Inflow data is {} and for Nino3.4 is ' \\\n",
    "      ' {}\\n'.format(statistics.median_high(inflow_data), statistics.median_high(nino_anomaly)))\n",
    "\n",
    "# Median, or 50th percentile, of grouped data.\n",
    "print('- High of data for Inflow data is {} and for Nino3.4 is ' \\\n",
    "      ' {}\\n'.format(statistics.median_grouped(inflow_data), statistics.median_grouped(nino_anomaly)))"
   ]
  },
  {
   "cell_type": "markdown",
   "metadata": {},
   "source": [
    "#### ====================================================================================================================================\n",
    "#### > Use the linregress() function to develop a linear regression model for reservoir inflow in November, based on knowledge of the November Nino3.4 SST anomaly and inflow data from the years given in the dataset. \n",
    "#### > This model could be used to predict inflow next November, given a prediction of the Nino3.4 anomaly. "
   ]
  },
  {
   "cell_type": "code",
   "execution_count": 183,
   "metadata": {},
   "outputs": [
    {
     "name": "stdout",
     "output_type": "stream",
     "text": [
      "extracted_reservoir_inflow_data = \n",
      "[[ 1.969000e+03  1.100000e+01  7.861900e+02  7.110762e-01]\n",
      " [ 1.970000e+03  1.100000e+01  1.026270e+03 -8.988835e-01]\n",
      " [ 1.971000e+03  1.100000e+01  1.325380e+03 -9.928036e-01]\n",
      " [ 1.972000e+03  1.100000e+01  7.039800e+02  2.043383e+00]\n",
      " [ 1.973000e+03  1.100000e+01  1.027390e+03 -1.902790e+00]\n",
      " [ 1.974000e+03  1.100000e+01  1.013090e+03 -8.493769e-01]\n",
      " [ 1.975000e+03  1.100000e+01  8.967900e+02 -1.725950e+00]\n",
      " [ 1.976000e+03  1.100000e+01  5.996500e+02  7.909826e-01]\n",
      " [ 1.977000e+03  1.100000e+01  4.112000e+02  7.857430e-01]\n",
      " [ 1.978000e+03  1.100000e+01  1.223820e+03 -1.800972e-01]\n",
      " [ 1.979000e+03  1.100000e+01  6.587600e+02  4.778493e-01]\n",
      " [ 1.980000e+03  1.100000e+01  9.306000e+02  2.171713e-02]\n",
      " [ 1.981000e+03  1.100000e+01  1.127990e+03 -1.443499e-01]\n",
      " [ 1.982000e+03  1.100000e+01  5.009000e+02  2.170516e+00]\n",
      " [ 1.983000e+03  1.100000e+01  5.726600e+02 -8.924033e-01]\n",
      " [ 1.984000e+03  1.100000e+01  6.009300e+02 -9.521771e-01]\n",
      " [ 1.985000e+03  1.100000e+01  8.538900e+02 -2.487502e-01]\n",
      " [ 1.986000e+03  1.100000e+01  1.202100e+03  1.112610e+00]\n",
      " [ 1.987000e+03  1.100000e+01  7.835300e+02  1.321704e+00]\n",
      " [ 1.988000e+03  1.100000e+01  1.146950e+03 -1.908830e+00]\n",
      " [ 1.989000e+03  1.100000e+01  4.418600e+02 -2.015098e-01]\n",
      " [ 1.990000e+03  1.100000e+01  8.452500e+02  3.495969e-01]\n",
      " [ 1.991000e+03  1.100000e+01  3.618900e+02  1.368129e+00]\n",
      " [ 1.992000e+03  1.100000e+01  8.692500e+02 -4.765689e-02]\n",
      " [ 1.993000e+03  1.100000e+01  1.111920e+03  2.291965e-01]\n",
      " [ 1.994000e+03  1.100000e+01  6.239400e+02  1.231663e+00]\n",
      " [ 1.995000e+03  1.100000e+01  1.454340e+03 -7.171233e-01]\n",
      " [ 1.996000e+03  1.100000e+01  9.764800e+02 -2.907763e-01]\n",
      " [ 1.997000e+03  1.100000e+01  2.205700e+02  2.532610e+00]\n",
      " [ 1.998000e+03  1.100000e+01  1.484120e+03 -1.316404e+00]\n",
      " [ 1.999000e+03  1.100000e+01  1.152710e+03 -1.390204e+00]\n",
      " [ 2.000000e+03  1.100000e+01  1.159680e+03 -6.744961e-01]\n",
      " [ 2.001000e+03  1.100000e+01  8.394000e+02 -1.990568e-01]\n",
      " [ 2.002000e+03  1.100000e+01  4.959100e+02  1.491663e+00]\n",
      " [ 2.003000e+03  1.100000e+01  4.489900e+02  6.090495e-01]\n",
      " [ 2.004000e+03  1.100000e+01  8.230600e+02  8.629959e-01]\n",
      " [ 2.005000e+03  1.100000e+01  1.042530e+03 -4.331766e-01]\n",
      " [ 2.006000e+03  1.100000e+01  7.859500e+02  1.141943e+00]]\n",
      "\n",
      " extracted_reservoir_inflow_data shape =(38, 4)\n"
     ]
    }
   ],
   "source": [
    "from scipy.stats.stats import linregress\n",
    "import numpy as np\n",
    "\n",
    "\n",
    "extracted_reservoir_inflow_data_forAnotherMonth = extract_reservoir_inflow_data(hist_seasonal_time_series, 11)\n",
    "\n",
    "print('extracted_reservoir_inflow_data = \\n{}\\n\\n extracted_reservoir_inflow_data shape =' \\\n",
    "      '{}'.format(extracted_reservoir_inflow_data_forAnotherMonth, extracted_reservoir_inflow_data_forAnotherMonth.shape))\n"
   ]
  },
  {
   "cell_type": "code",
   "execution_count": 211,
   "metadata": {},
   "outputs": [
    {
     "name": "stdout",
     "output_type": "stream",
     "text": [
      "Results of linear model metrics = LinregressResult(slope=-169.89619153897067, intercept=870.7403436162813, rvalue=-0.6227487256028322, pvalue=2.977122184772769e-05, stderr=35.576280607819676)\n",
      "\n",
      "Nino3.4 \t Inflow Actual \t Inflow Predictions \t errors \t sq_errors\n",
      "--------------------------------------------------------------------------------------------\n",
      "0.7110762 \t 786.19 \t 749.9312053422778 \t 36.258794657722206 \t 1314.7001900308644\n",
      "-0.8988835 \t 1026.27 \t 1023.4572269035016 \t 2.812773096498404 \t 7.911692492385219\n",
      "-0.9928036 \t 1325.38 \t 1039.4138942024608 \t 285.9661057975393 \t 81776.61366500943\n",
      "2.043383 \t 703.98 \t 523.5773540608047 \t 180.40264593919528 \t 32545.11466186265\n",
      "-1.90279 \t 1027.39 \t 1194.0171179147192 \t -166.62711791471907 \t 27764.59642456569\n",
      "-0.8493769 \t 1013.09 \t 1015.0462441074584 \t -1.9562441074583603 \t 3.826891007965557\n",
      "-1.72595 \t 896.79 \t 1163.9726754029678 \t -267.1826754029678 \t 71386.58203548765\n",
      "0.7909826 \t 599.65 \t 736.3554123026883 \t -136.70541230268827 \t 18688.369752847993\n",
      "0.785743 \t 411.2 \t 737.2456003878758 \t -326.0456003878758 \t 106305.73353229041\n",
      "-0.1800972 \t 1223.82 \t 901.3381720031136 \t 322.4818279968863 \t 103994.52938821336\n",
      "0.4778493 \t 658.76 \t 789.5555674167182 \t -130.7955674167182 \t 17107.480455861274\n",
      "0.02171713 \t 930.6 \t 867.0506859381245 \t 63.54931406187552 \t 4038.51531773489\n",
      "-0.1443499 \t 1127.99 \t 895.2648418753125 \t 232.72515812468748 \t 54160.99922416079\n",
      "2.170516 \t 500.9 \t 501.9779415418808 \t -1.0779415418808185 \t 1.1619579677123963\n",
      "-0.8924033 \t 572.66 \t 1022.3562656030908 \t -449.69626560309086 \t 202226.73129736565\n",
      "-0.9521771 \t 600.93 \t 1032.511606576903 \t -431.581606576903 \t 186262.6831355007\n",
      "-0.2487502 \t 853.89 \t 913.0020552408386 \t -59.11205524083857 \t 3494.235074795951\n",
      "1.11261 \t 1202.1 \t 681.712141948107 \t 520.3878580518929 \t 270803.522807837\n",
      "1.321704 \t 783.53 \t 646.1878676744576 \t 137.34213232554237 \t 18862.86131172679\n",
      "-1.90883 \t 1146.95 \t 1195.0432909116148 \t -48.09329091161476 \t 2312.9646307092066\n",
      "-0.2015098 \t 441.86 \t 904.9760911940609 \t -463.1160911940609 \t 214476.51392286574\n",
      "0.3495969 \t 845.25 \t 811.345161732451 \t 33.90483826754905 \t 1149.5380579486587\n",
      "1.368129 \t 361.89 \t 638.3004369822609 \t -276.4104369822609 \t 76402.72967272441\n",
      "-0.04765689 \t 869.25 \t 878.837067727873 \t -9.587067727872977 \t 91.91186761882354\n",
      "0.2291965 \t 1111.92 \t 831.8007311522196 \t 280.1192688477805 \t 78466.80477981514\n",
      "1.231663 \t 623.94 \t 661.485490656818 \t -37.54549065681795 \t 1409.6638686612037\n",
      "-0.7171233 \t 1454.34 \t 992.57686115014 \t 461.76313884985996 \t 213225.19640047505\n",
      "-0.2907763 \t 976.48 \t 920.1421295760745 \t 56.33787042392555 \t 3173.9556439030252\n",
      "2.53261 \t 220.57 \t 440.4595499627688 \t -219.8895499627688 \t 48351.414182828994\n",
      "-1.316404 \t 1484.12 \t 1094.3923697429484 \t 389.7276302570515 \t 151887.62578577703\n",
      "-1.390204 \t 1152.71 \t 1106.9307086785245 \t 45.77929132147551 \t 2095.743513896523\n",
      "-0.6744961 \t 1159.68 \t 985.33466221417 \t 174.3453377858301 \t 30396.296807655202\n",
      "-0.1990568 \t 839.4 \t 904.5593358362158 \t -65.15933583621586 \t 4245.739046616764\n",
      "1.491663 \t 495.91 \t 617.3124808566856 \t -121.4024808566856 \t 14738.562358157913\n",
      "0.6090495 \t 448.99 \t 767.2651531075669 \t -318.2751531075669 \t 101299.07308564514\n",
      "0.8629959 \t 823.06 \t 724.1206268925349 \t 98.93937310746503 \t 9788.999550898174\n",
      "-0.4331766 \t 1042.53 \t 944.3353982200814 \t 98.19460177991857 \t 9642.179818716788\n",
      "1.141943 \t 785.95 \t 676.7285769616944 \t 109.2214230383056 \t 11929.319250512513\n"
     ]
    }
   ],
   "source": [
    "X = extracted_reservoir_inflow_data_forAnotherMonth[:, 3]  \n",
    "Y = extracted_reservoir_inflow_data_forAnotherMonth[:, 2]\n",
    "\n",
    "linearmodel = linregress(X,Y)\n",
    "print('Results of linear model metrics = {}\\n'.format(linearmodel))\n",
    "\n",
    "b0 = linearmodel[0]\n",
    "b1 = linearmodel[1]\n",
    "\n",
    "# Make predictions\n",
    "# use the slope and intercept values to return a new value to represent where on the \n",
    "# y-axis the corresponding x value will be placed\n",
    "def func(X):\n",
    "    return(b0 * X + b1 )\n",
    "\n",
    "predictions = func(X)\n",
    "# print('predictions = \\n{}'.format(predictions))\n",
    "\n",
    "for idx, i in enumerate(X):\n",
    "    if idx == 0:\n",
    "        print('Nino3.4','\\t', 'Inflow Actual', '\\t', 'Inflow Predictions', '\\t', 'errors', '\\t', 'sq_errors')\n",
    "        print('--------------------------------------------------------------------------------------------')\n",
    "    \n",
    "    print(i,'\\t', Y[idx], '\\t', predictions[idx], '\\t', Y[idx]-predictions[idx],  '\\t',  (Y[idx]-predictions[idx])**2) \n",
    "\n",
    "# run each value X via the function - result is a new array with new values for y-axis\n",
    "model = list(map(func, X))"
   ]
  },
  {
   "cell_type": "code",
   "execution_count": 185,
   "metadata": {},
   "outputs": [
    {
     "data": {
      "image/png": "[encoded data removed]",
      "text/plain": [
       "<Figure size 432x288 with 1 Axes>"
      ]
     },
     "metadata": {
      "needs_background": "light"
     },
     "output_type": "display_data"
    }
   ],
   "source": [
    "plt.scatter(X, Y)\n",
    "plt.plot(X, model)\n",
    "plt.show()"
   ]
  },
  {
   "cell_type": "markdown",
   "metadata": {},
   "source": [
    "### The blue line is the line of linear regression."
   ]
  },
  {
   "cell_type": "markdown",
   "metadata": {},
   "source": [
    "### Plot with predictions "
   ]
  },
  {
   "cell_type": "code",
   "execution_count": 204,
   "metadata": {},
   "outputs": [
    {
     "data": {
      "image/png": "[encoded data removed]",
      "text/plain": [
       "<Figure size 432x288 with 1 Axes>"
      ]
     },
     "metadata": {
      "needs_background": "light"
     },
     "output_type": "display_data"
    }
   ],
   "source": [
    "plt.figure(2)\n",
    "plt.plot(years, predictions,  label='Predictions')\n",
    "plt.plot(years, Y,  label='Y Labels')\n",
    "plt.ylabel(\"Inflow\")\n",
    "plt.xlabel(\"Year\")\n",
    "plt.title(\"Predictions and True Labels\")\n",
    "plt.legend()\n",
    "plt.show()"
   ]
  },
  {
   "cell_type": "markdown",
   "metadata": {},
   "source": [
    "#### Accuracy of my predictions of inflow using the regression model"
   ]
  },
  {
   "cell_type": "raw",
   "metadata": {},
   "source": [
    "The predictions of the model follow the pattern of the y labels however there are several inconsistencies."
   ]
  }
 ],
 "metadata": {
  "kernelspec": {
   "display_name": "Python 3",
   "language": "python",
   "name": "python3"
  },
  "language_info": {
   "codemirror_mode": {
    "name": "ipython",
    "version": 3
   },
   "file_extension": ".py",
   "mimetype": "text/x-python",
   "name": "python",
   "nbconvert_exporter": "python",
   "pygments_lexer": "ipython3",
   "version": "3.7.9"
  }
 },
 "nbformat": 4,
 "nbformat_minor": 4
}
