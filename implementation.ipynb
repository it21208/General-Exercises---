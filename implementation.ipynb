{
 "cells": [
  {
   "cell_type": "code",
   "execution_count": 1,
   "metadata": {},
   "outputs": [
    {
     "name": "stdout",
     "output_type": "stream",
     "text": [
      "Resultat: 15\n"
     ]
    }
   ],
   "source": [
    "public String foo(int param1, int param2, int param3) {\n",
    "    \n",
    "    // declare new param2 to store param2 after testing it     \n",
    "    int new_param2;\n",
    "    \n",
    "    // check if param2 is a negative number and convert it to positive      \n",
    "    if(param2 < 0) {\n",
    "        param2 *= -1;\n",
    "    } \n",
    "        \n",
    "    // connect the first and second parameter into a connected String     \n",
    "    String string_param1 = String.valueOf(param1);\n",
    "    String string_param2 = String.valueOf(param2);\n",
    "    String connected_string = string_param1+string_param2;\n",
    "    \n",
    "    // cast connected string to integer\n",
    "    int connected_int = Integer.parseInt(connected_string);\n",
    "    \n",
    "    // param3 is already an integer no need to cast it\n",
    "    \n",
    "    // add connected_int and param3\n",
    "    int sum = connected_int + param3;\n",
    "    \n",
    "    // convert sum from integer to string\n",
    "    String result = String.valueOf(sum);\n",
    "    \n",
    "    // concatenate two strings      \n",
    "    String s = 'Resultat: '+result;\n",
    "    \n",
    "    return s;\n",
    "}\n",
    "\n",
    "int param1 = 1;\n",
    "int param2 = -2;\n",
    "int param3 = 3;\n",
    "System.out.println(foo(param1, param2, param3))"
   ]
  }
 ],
 "metadata": {
  "celltoolbar": "Attachments",
  "kernelspec": {
   "display_name": "SciJava",
   "language": "groovy",
   "name": "scijava"
  },
  "language_info": {
   "codemirror_mode": "groovy",
   "file_extension": "",
   "mimetype": "",
   "name": "scijava",
   "nbconverter_exporter": "",
   "pygments_lexer": "groovy",
   "version": "1.0"
  }
 },
 "nbformat": 4,
 "nbformat_minor": 4
}
